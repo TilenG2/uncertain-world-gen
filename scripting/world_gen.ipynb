{
 "cells": [
  {
   "cell_type": "code",
   "execution_count": 1,
   "metadata": {},
   "outputs": [],
   "source": [
    "from utils import generate_world_pandas, generate_world\n",
    "import ploting as draw\n",
    "import random\n",
    "import numpy as np"
   ]
  },
  {
   "cell_type": "code",
   "execution_count": 506,
   "metadata": {},
   "outputs": [
    {
     "ename": "UFuncTypeError",
     "evalue": "ufunc 'add' did not contain a loop with signature matching types (dtype('<U12'), dtype('<U16')) -> None",
     "output_type": "error",
     "traceback": [
      "\u001b[0;31m---------------------------------------------------------------------------\u001b[0m",
      "\u001b[0;31mUFuncTypeError\u001b[0m                            Traceback (most recent call last)",
      "Cell \u001b[0;32mIn [506], line 3\u001b[0m\n\u001b[1;32m      1\u001b[0m \u001b[38;5;66;03m# Observed Value 1, Uncertainty 1, Observed Value 2, Uncertainty 2\u001b[39;00m\n\u001b[1;32m      2\u001b[0m features \u001b[38;5;241m=\u001b[39m \u001b[38;5;241m3\u001b[39m\n\u001b[0;32m----> 3\u001b[0m \u001b[43m[\u001b[49m\u001b[38;5;124;43m'\u001b[39;49m\u001b[38;5;124;43mClass\u001b[39;49m\u001b[38;5;124;43m'\u001b[39;49m\u001b[43m]\u001b[49m\u001b[43m \u001b[49m\u001b[38;5;241;43m+\u001b[39;49m\u001b[43m \u001b[49m\u001b[43m[\u001b[49m\u001b[38;5;124;43mf\u001b[39;49m\u001b[38;5;124;43m'\u001b[39;49m\u001b[38;5;124;43mTrue Value \u001b[39;49m\u001b[38;5;132;43;01m{\u001b[39;49;00m\u001b[43mi\u001b[49m\u001b[38;5;132;43;01m}\u001b[39;49;00m\u001b[38;5;124;43m'\u001b[39;49m\u001b[43m \u001b[49m\u001b[38;5;28;43;01mfor\u001b[39;49;00m\u001b[43m \u001b[49m\u001b[43mi\u001b[49m\u001b[43m \u001b[49m\u001b[38;5;129;43;01min\u001b[39;49;00m\u001b[43m \u001b[49m\u001b[38;5;28;43mrange\u001b[39;49m\u001b[43m(\u001b[49m\u001b[38;5;241;43m1\u001b[39;49m\u001b[43m,\u001b[49m\u001b[43m \u001b[49m\u001b[43mfeatures\u001b[49m\u001b[38;5;241;43m+\u001b[39;49m\u001b[38;5;241;43m1\u001b[39;49m\u001b[43m)\u001b[49m\u001b[43m]\u001b[49m\u001b[43m \u001b[49m\u001b[38;5;241;43m+\u001b[39;49m\u001b[43m \u001b[49m\u001b[43mnp\u001b[49m\u001b[38;5;241;43m.\u001b[39;49m\u001b[43marray\u001b[49m\u001b[43m(\u001b[49m\u001b[38;5;28;43mlist\u001b[39;49m\u001b[43m(\u001b[49m\u001b[38;5;28;43mzip\u001b[39;49m\u001b[43m(\u001b[49m\u001b[43m[\u001b[49m\u001b[38;5;124;43mf\u001b[39;49m\u001b[38;5;124;43m'\u001b[39;49m\u001b[38;5;124;43mObserved Value \u001b[39;49m\u001b[38;5;132;43;01m{\u001b[39;49;00m\u001b[43mi\u001b[49m\u001b[38;5;132;43;01m}\u001b[39;49;00m\u001b[38;5;124;43m'\u001b[39;49m\u001b[43m \u001b[49m\u001b[38;5;28;43;01mfor\u001b[39;49;00m\u001b[43m \u001b[49m\u001b[43mi\u001b[49m\u001b[43m \u001b[49m\u001b[38;5;129;43;01min\u001b[39;49;00m\u001b[43m \u001b[49m\u001b[38;5;28;43mrange\u001b[39;49m\u001b[43m(\u001b[49m\u001b[38;5;241;43m1\u001b[39;49m\u001b[43m,\u001b[49m\u001b[43m \u001b[49m\u001b[43mfeatures\u001b[49m\u001b[38;5;241;43m+\u001b[39;49m\u001b[38;5;241;43m1\u001b[39;49m\u001b[43m)\u001b[49m\u001b[43m]\u001b[49m\u001b[43m,\u001b[49m\u001b[43m \u001b[49m\u001b[43m[\u001b[49m\u001b[38;5;124;43mf\u001b[39;49m\u001b[38;5;124;43m'\u001b[39;49m\u001b[38;5;124;43mUncertainty \u001b[39;49m\u001b[38;5;132;43;01m{\u001b[39;49;00m\u001b[43mi\u001b[49m\u001b[38;5;132;43;01m}\u001b[39;49;00m\u001b[38;5;124;43m'\u001b[39;49m\u001b[43m \u001b[49m\u001b[38;5;28;43;01mfor\u001b[39;49;00m\u001b[43m \u001b[49m\u001b[43mi\u001b[49m\u001b[43m \u001b[49m\u001b[38;5;129;43;01min\u001b[39;49;00m\u001b[43m \u001b[49m\u001b[38;5;28;43mrange\u001b[39;49m\u001b[43m(\u001b[49m\u001b[38;5;241;43m1\u001b[39;49m\u001b[43m,\u001b[49m\u001b[43m \u001b[49m\u001b[43mfeatures\u001b[49m\u001b[38;5;241;43m+\u001b[39;49m\u001b[38;5;241;43m1\u001b[39;49m\u001b[43m)\u001b[49m\u001b[43m]\u001b[49m\u001b[43m)\u001b[49m\u001b[43m)\u001b[49m\u001b[43m)\u001b[49m\u001b[38;5;241;43m.\u001b[39;49m\u001b[43mflatten\u001b[49m\u001b[43m(\u001b[49m\u001b[43m)\u001b[49m\n",
      "\u001b[0;31mUFuncTypeError\u001b[0m: ufunc 'add' did not contain a loop with signature matching types (dtype('<U12'), dtype('<U16')) -> None"
     ]
    }
   ],
   "source": [
    "# Observed Value 1, Uncertainty 1, Observed Value 2, Uncertainty 2\n",
    "features = 3"
   ]
  },
  {
   "cell_type": "code",
   "execution_count": 504,
   "metadata": {},
   "outputs": [
    {
     "data": {
      "text/plain": [
       "['Observed Value 1',\n",
       " 'Uncertainty 1',\n",
       " 'Observed Value 2',\n",
       " 'Uncertainty 2',\n",
       " 'Observed Value 3',\n",
       " 'Uncertainty 3']"
      ]
     },
     "execution_count": 504,
     "metadata": {},
     "output_type": "execute_result"
    }
   ],
   "source": [
    "list(np.array(list(zip([f'Observed Value {i}' for i in range(1, features+1)], [f'Uncertainty {i}' for i in range(1, features+1)]))).flatten())"
   ]
  },
  {
   "cell_type": "code",
   "execution_count": 312,
   "metadata": {},
   "outputs": [],
   "source": [
    "world_coords = generate_world_bounds(features = 2)\n",
    "class_number  = 10\n",
    "bounds_with_class = {}\n",
    "random_list = list(np.arange(class_number)) + [np.random.randint(0, class_number - 1) for _ in range(len(world_coords) - class_number)]\n",
    "np.random.shuffle(random_list)\n",
    "for i, bounds in zip(random_list, world_coords):\n",
    "    bounds_with_class[bounds] = i"
   ]
  },
  {
   "cell_type": "code",
   "execution_count": 461,
   "metadata": {},
   "outputs": [
    {
     "name": "stdout",
     "output_type": "stream",
     "text": [
      "[3.         0.09995382 0.72381818]\n",
      "[9.         0.60934193 0.46028849]\n",
      "[4.         0.36898648 0.18811591]\n",
      "[3.         0.34734291 0.76823435]\n",
      "[4.         0.34172133 0.17756643]\n",
      "[9.         0.95533672 0.4113466 ]\n",
      "[7.         0.11463499 0.62764401]\n",
      "[4.         0.48132586 0.179158  ]\n",
      "[4.         0.35052069 0.47489546]\n",
      "[3.         0.75273978 0.92759345]\n"
     ]
    }
   ],
   "source": [
    "from collections import defaultdict\n",
    "class_with_bounds = defaultdict(set)\n",
    "bounds_with_class\n",
    "for bounds, cls in bounds_with_class.items():\n",
    "    class_with_bounds[cls] |= {bounds}\n",
    "    \n",
    "bounds_set = set()\n",
    "for b in class_with_bounds.values():\n",
    "    bounds_set |= b\n",
    "for _ in range(10):\n",
    "    bound = random.choice(list(bounds_set))\n",
    "    for cls, bounds in class_with_bounds.items():\n",
    "        if bound in bounds:\n",
    "            break\n",
    "    val = [random.uniform(minV, maxV) for minV, maxV in bound]\n",
    "    print(np.array([cls] + val))"
   ]
  },
  {
   "cell_type": "code",
   "execution_count": 4,
   "metadata": {},
   "outputs": [],
   "source": [
    "def add_noise_old(tv, errRange = 1, mutation_rate = 0):\n",
    "    \n",
    "    def add_unc_single_value(tv, errRange, mutation_rate):\n",
    "        rv = random.random() if random.random() < mutation_rate else tv \n",
    "        rv += errRange * random.uniform(-1, 1)\n",
    "        return rv\n",
    "    \n",
    "    def add_unc_array(tv, errRange, mutation_rate):\n",
    "        rv = []\n",
    "        for t in tv:\n",
    "            rv.append(add_unc_single_value(t, errRange, mutation_rate))\n",
    "        return np.array(rv)\n",
    "    \n",
    "    try:\n",
    "        iter(tv)\n",
    "    except:\n",
    "        _add_unc = add_unc_single_value\n",
    "    else:\n",
    "        _add_unc = add_unc_array\n",
    "    \n",
    "    return _add_unc(tv, errRange, mutation_rate)"
   ]
  },
  {
   "cell_type": "code",
   "execution_count": 20,
   "metadata": {},
   "outputs": [],
   "source": [
    "def add_noise(world, errRange = 1, mutation_rate = 0):\n",
    "    _, n_feat = world[:, 1:].shape\n",
    "    for i, cls_feat in enumerate(world):\n",
    "        mutation = True if random.random() < mutation_rate else False\n",
    "        if mutation:\n",
    "            for j in range(1, n_feat + 1):\n",
    "                cls_feat[j] = random.random() + errRange * random.uniform(-1, 1)\n",
    "        else:\n",
    "            for j in range(1, n_feat + 1):\n",
    "                cls_feat[j] += errRange * random.uniform(-1, 1)\n",
    "        world[i] = cls_feat\n",
    "    return world"
   ]
  },
  {
   "cell_type": "code",
   "execution_count": 5,
   "metadata": {},
   "outputs": [],
   "source": [
    "import matplotlib.pyplot as plt\n",
    "\n",
    "def draw_combined_world(data, sample_data = None, cmap='viridis'):    \n",
    "    # Extracting data for the true world\n",
    "    true_classes = data[:, 0]\n",
    "    true_f1 = data[:, 1]\n",
    "    true_f2 = data[:, 2]\n",
    "    \n",
    "    # Extracting data for the observed worlds\n",
    "    real_f1 = data[:, 3]\n",
    "    real_f2 = data[:, 4]\n",
    "    \n",
    "    minf1 = np.min([true_f1, real_f1])\n",
    "    maxf1 = np.max([true_f1, real_f1])\n",
    "    minf2 = np.min([true_f2, real_f2])\n",
    "    maxf2 = np.max([true_f2, real_f2])\n",
    "    \n",
    "    # Creating subplots\n",
    "    fig, axs = plt.subplots(1, 2, figsize=(16, 8))\n",
    "        \n",
    "    axs[0].set_xlim(minf1, maxf1)\n",
    "    axs[1].set_xlim(minf1, maxf1)\n",
    "    \n",
    "    axs[0].set_ylim(minf2, maxf2)\n",
    "    axs[1].set_ylim(minf2, maxf2)\n",
    "    \n",
    "    # True World\n",
    "    axs[0].scatter(true_f1, true_f2, c=true_classes, cmap=cmap, edgecolor='k', marker='s')\n",
    "    axs[0].set_xlabel('Feature 1')\n",
    "    axs[0].set_ylabel('Feature 2')\n",
    "    axs[0].set_title('True World')\n",
    "    \n",
    "    # Observed World\n",
    "    axs[1].scatter(real_f1, real_f2, c=true_classes, cmap=cmap, edgecolor='k', marker='s')\n",
    "    axs[1].set_xlabel('Feature 1')\n",
    "    axs[1].set_ylabel('Feature 2')\n",
    "    axs[1].set_title('Real World')\n",
    "    \n",
    "    plt.tight_layout()\n",
    "    \n",
    "    # Display the plot\n",
    "    plt.show()"
   ]
  },
  {
   "cell_type": "code",
   "execution_count": 5,
   "metadata": {},
   "outputs": [
    {
     "data": {
      "image/png": "[encoded data removed]",
      "text/plain": [
       "<Figure size 800x800 with 1 Axes>"
      ]
     },
     "metadata": {},
     "output_type": "display_data"
    }
   ],
   "source": [
    "world = generate_world(1, 0, 2, no_samples=10, equal_classes=False)\n",
    "# print(world)\n",
    "# world = add_noise(world, errRange=0.05, mutation_rate=0.1)\n",
    "# r = 0.9\n",
    "# y1 = r*world[:, 1]+np.sqrt(1-r*r)*world[:, 1] \n",
    "# world = np.c_[world, add_noise(world[:, 1], errRange=0.05, mutation_rate=0.1)]\n",
    "# world = np.c_[world, add_noise(world[:, 2], errRange=0.05, mutation_rate=0.1)]\n",
    "\n",
    "# world[:, 1] = add_noise(world[:, 1], errRange=0.05, mutation_rate=0.1)\n",
    "# world[:, 2] = add_noise(world[:, 2], errRange=0.05, mutation_rate=0.1)\n",
    "\n",
    "# print(np.corrcoef(world[:, 1], world[:, 3])[0, 1])\n",
    "draw.draw_true_world(world)"
   ]
  },
  {
   "cell_type": "code",
   "execution_count": 4,
   "metadata": {},
   "outputs": [
    {
     "data": {
      "text/html": [
       "<div>\n",
       "<style scoped>\n",
       "    .dataframe tbody tr th:only-of-type {\n",
       "        vertical-align: middle;\n",
       "    }\n",
       "\n",
       "    .dataframe tbody tr th {\n",
       "        vertical-align: top;\n",
       "    }\n",
       "\n",
       "    .dataframe thead th {\n",
       "        text-align: right;\n",
       "    }\n",
       "</style>\n",
       "<table border=\"1\" class=\"dataframe\">\n",
       "  <thead>\n",
       "    <tr style=\"text-align: right;\">\n",
       "      <th></th>\n",
       "      <th>Class</th>\n",
       "      <th>True Value 1</th>\n",
       "      <th>True Value 2</th>\n",
       "      <th>Observed Value 1</th>\n",
       "      <th>Uncertainty 1</th>\n",
       "      <th>Observed Value 2</th>\n",
       "      <th>Uncertainty 2</th>\n",
       "    </tr>\n",
       "  </thead>\n",
       "  <tbody>\n",
       "    <tr>\n",
       "      <th>0</th>\n",
       "      <td>0.0</td>\n",
       "      <td>0.467596</td>\n",
       "      <td>0.700637</td>\n",
       "      <td>0.554127</td>\n",
       "      <td>0.086531</td>\n",
       "      <td>0.760955</td>\n",
       "      <td>0.060319</td>\n",
       "    </tr>\n",
       "    <tr>\n",
       "      <th>1</th>\n",
       "      <td>1.0</td>\n",
       "      <td>0.762159</td>\n",
       "      <td>0.485928</td>\n",
       "      <td>0.670312</td>\n",
       "      <td>0.091846</td>\n",
       "      <td>0.545556</td>\n",
       "      <td>0.059629</td>\n",
       "    </tr>\n",
       "    <tr>\n",
       "      <th>2</th>\n",
       "      <td>1.0</td>\n",
       "      <td>0.762692</td>\n",
       "      <td>0.358049</td>\n",
       "      <td>0.678683</td>\n",
       "      <td>0.084009</td>\n",
       "      <td>0.333839</td>\n",
       "      <td>0.024211</td>\n",
       "    </tr>\n",
       "    <tr>\n",
       "      <th>3</th>\n",
       "      <td>1.0</td>\n",
       "      <td>0.119156</td>\n",
       "      <td>0.281838</td>\n",
       "      <td>0.201962</td>\n",
       "      <td>0.082806</td>\n",
       "      <td>0.300511</td>\n",
       "      <td>0.018673</td>\n",
       "    </tr>\n",
       "    <tr>\n",
       "      <th>4</th>\n",
       "      <td>0.0</td>\n",
       "      <td>0.424963</td>\n",
       "      <td>0.121082</td>\n",
       "      <td>0.392442</td>\n",
       "      <td>0.032520</td>\n",
       "      <td>0.112099</td>\n",
       "      <td>0.008982</td>\n",
       "    </tr>\n",
       "    <tr>\n",
       "      <th>5</th>\n",
       "      <td>1.0</td>\n",
       "      <td>0.996042</td>\n",
       "      <td>0.810217</td>\n",
       "      <td>0.939290</td>\n",
       "      <td>0.056751</td>\n",
       "      <td>0.717879</td>\n",
       "      <td>0.092338</td>\n",
       "    </tr>\n",
       "    <tr>\n",
       "      <th>6</th>\n",
       "      <td>1.0</td>\n",
       "      <td>0.073225</td>\n",
       "      <td>0.729832</td>\n",
       "      <td>0.087475</td>\n",
       "      <td>0.014249</td>\n",
       "      <td>0.822140</td>\n",
       "      <td>0.092308</td>\n",
       "    </tr>\n",
       "    <tr>\n",
       "      <th>7</th>\n",
       "      <td>1.0</td>\n",
       "      <td>0.649420</td>\n",
       "      <td>0.100701</td>\n",
       "      <td>0.748743</td>\n",
       "      <td>0.099322</td>\n",
       "      <td>0.048244</td>\n",
       "      <td>0.052457</td>\n",
       "    </tr>\n",
       "    <tr>\n",
       "      <th>8</th>\n",
       "      <td>0.0</td>\n",
       "      <td>0.332672</td>\n",
       "      <td>0.814224</td>\n",
       "      <td>0.277545</td>\n",
       "      <td>0.055127</td>\n",
       "      <td>0.903728</td>\n",
       "      <td>0.089504</td>\n",
       "    </tr>\n",
       "    <tr>\n",
       "      <th>9</th>\n",
       "      <td>1.0</td>\n",
       "      <td>0.228214</td>\n",
       "      <td>0.477010</td>\n",
       "      <td>0.146767</td>\n",
       "      <td>0.081447</td>\n",
       "      <td>0.522066</td>\n",
       "      <td>0.045056</td>\n",
       "    </tr>\n",
       "  </tbody>\n",
       "</table>\n",
       "</div>"
      ],
      "text/plain": [
       "   Class  True Value 1  True Value 2  Observed Value 1  Uncertainty 1  \\\n",
       "0    0.0      0.467596      0.700637          0.554127       0.086531   \n",
       "1    1.0      0.762159      0.485928          0.670312       0.091846   \n",
       "2    1.0      0.762692      0.358049          0.678683       0.084009   \n",
       "3    1.0      0.119156      0.281838          0.201962       0.082806   \n",
       "4    0.0      0.424963      0.121082          0.392442       0.032520   \n",
       "5    1.0      0.996042      0.810217          0.939290       0.056751   \n",
       "6    1.0      0.073225      0.729832          0.087475       0.014249   \n",
       "7    1.0      0.649420      0.100701          0.748743       0.099322   \n",
       "8    0.0      0.332672      0.814224          0.277545       0.055127   \n",
       "9    1.0      0.228214      0.477010          0.146767       0.081447   \n",
       "\n",
       "   Observed Value 2  Uncertainty 2  \n",
       "0          0.760955       0.060319  \n",
       "1          0.545556       0.059629  \n",
       "2          0.333839       0.024211  \n",
       "3          0.300511       0.018673  \n",
       "4          0.112099       0.008982  \n",
       "5          0.717879       0.092338  \n",
       "6          0.822140       0.092308  \n",
       "7          0.048244       0.052457  \n",
       "8          0.903728       0.089504  \n",
       "9          0.522066       0.045056  "
      ]
     },
     "execution_count": 4,
     "metadata": {},
     "output_type": "execute_result"
    }
   ],
   "source": [
    "generate_world_pandas(1, 0, 2, no_samples=10, equal_classes=False)"
   ]
  },
  {
   "cell_type": "code",
   "execution_count": 67,
   "metadata": {},
   "outputs": [
    {
     "data": {
      "text/plain": [
       "0.9808630662046044"
      ]
     },
     "execution_count": 67,
     "metadata": {},
     "output_type": "execute_result"
    }
   ],
   "source": [
    "np.corrcoef(world[:, 1], world[:, 3])[0,1]"
   ]
  }
 ],
 "metadata": {
  "kernelspec": {
   "display_name": "Python 3",
   "language": "python",
   "name": "python3"
  },
  "language_info": {
   "codemirror_mode": {
    "name": "ipython",
    "version": 3
   },
   "file_extension": ".py",
   "mimetype": "text/x-python",
   "name": "python",
   "nbconvert_exporter": "python",
   "pygments_lexer": "ipython3",
   "version": "3.10.12"
  }
 },
 "nbformat": 4,
 "nbformat_minor": 2
}
