{
 "cells": [
  {
   "cell_type": "code",
   "execution_count": 1,
   "metadata": {},
   "outputs": [],
   "source": [
    "import random\n",
    "import numpy as np\n",
    "from utils import *\n",
    "from ploting import *"
   ]
  },
  {
   "cell_type": "markdown",
   "metadata": {},
   "source": [
    "## Testing "
   ]
  },
  {
   "cell_type": "code",
   "execution_count": 5,
   "metadata": {},
   "outputs": [],
   "source": [
    "from trees.util.uncertaintreelearner import UncertainTreeLearner\n",
    "from trees.util.uncertainforestutil import UncertainForestLearner\n",
    "from trees.owtree import ClassificationTreeLearner\n",
    "from Orange.modelling import RandomForestLearner\n",
    "from Orange.classification.logistic_regression import LogisticRegressionLearner\n",
    "from Orange.modelling.constant import ConstantLearner\n",
    "\n",
    "post_hoc = UncertainTreeLearner(max_depth=None, min_samples_leaf=2, min_samples_split=4, sufficient_majority=0.90, post_hoc=True)\n",
    "skl_tree = ClassificationTreeLearner(max_depth=None, min_samples_leaf=2, min_samples_split=4, sufficient_majority=0.90)\n",
    "uncertain_forest = UncertainForestLearner(n_trees=10, max_depth=None, min_samples_split=4)\n",
    "random_forest = RandomForestLearner(n_trees=10, max_depth=None, min_samples_split=4, max_features = None)\n",
    "logistic_regression = LogisticRegressionLearner(penalty=None)\n",
    "majority = ConstantLearner()"
   ]
  },
  {
   "cell_type": "code",
   "execution_count": 6,
   "metadata": {},
   "outputs": [],
   "source": [
    "from Orange.evaluation import TestOnTestData\n",
    "from Orange.evaluation.scoring import CA\n",
    "\n",
    "def get_world_results(seed, features, errRange, NUMBER_OF_CLASSES, n_sample, rep): \n",
    "    results = []\n",
    "    for err_range in errRange:\n",
    "        print(f\"  World Seed {seed}, errRange {err_range}\")\n",
    "        np.random.seed(seed)\n",
    "        world = generate_world(seed, features, \n",
    "                            feature_bounds = (0, 1), \n",
    "                            endT = .2, endA = .3, max_depth = 4,\n",
    "                            class_number = NUMBER_OF_CLASSES,\n",
    "                            errRange = err_range, corr = 1)\n",
    "        data, test_data = convert_np_to_orange(world, features)\n",
    "        for samples_per_class in n_sample:\n",
    "            average_CA = np.array([0, 0, 0], dtype=\"float64\")\n",
    "            majority_class = CA(TestOnTestData(test_data, test_data=test_data, learners=[majority]))[0]\n",
    "            for _ in range(rep):\n",
    "                res = TestOnTestData(data=sample_data_orange(data, samples_per_class), test_data=test_data, learners=[skl_tree, post_hoc, uncertain_forest])\n",
    "                average_CA += CA(res)\n",
    "                # print(sample_data_orange(data, samples_per_class))\n",
    "                # print(f\"    samples_per_class: {samples_per_class}\\n    Results:\")\n",
    "            average_CA = average_CA / rep * 100\n",
    "            results.append([features, seed, err_range, samples_per_class, average_CA[0], average_CA[1], average_CA[2], majority_class])\n",
    "            # print(f\"  Results {samples_per_class}:\\n      skl_tree          {round(average_CA[0], 2)}%\\n      post_hoc          {round(average_CA[1], 2)}%\\n      uncertain_forest  {round(average_CA[2], 2)}%\")\n",
    "    return results\n",
    "            "
   ]
  },
  {
   "cell_type": "code",
   "execution_count": 15,
   "metadata": {},
   "outputs": [
    {
     "data": {
      "text/html": [
       "\n",
       "    <style>\n",
       "        .progress .progress-bar {\n",
       "            background-color: #f60 !important; /* Change the progress bar background color to black */\n",
       "        }\n",
       "    </style>\n"
      ],
      "text/plain": [
       "<IPython.core.display.HTML object>"
      ]
     },
     "metadata": {},
     "output_type": "display_data"
    }
   ],
   "source": [
    "from IPython.core.display import HTML\n",
    "\n",
    "# Custom CSS to change the background color of the progress bar\n",
    "display(HTML(\"\"\"\n",
    "    <style>\n",
    "        .progress .progress-bar {\n",
    "            background-color: #f60 !important; /* Change the progress bar background color to black */\n",
    "        }\n",
    "    </style>\n",
    "\"\"\"))\n"
   ]
  },
  {
   "cell_type": "markdown",
   "metadata": {},
   "source": [
    "### 2 Class"
   ]
  },
  {
   "cell_type": "code",
   "execution_count": 21,
   "metadata": {},
   "outputs": [
    {
     "data": {
      "application/vnd.jupyter.widget-view+json": {
       "model_id": "af27a652037e49d8b86b6515ea2a941e",
       "version_major": 2,
       "version_minor": 0
      },
      "text/plain": [
       "  0%|          | 0/550 [00:00<?, ?it/s]"
      ]
     },
     "metadata": {},
     "output_type": "display_data"
    }
   ],
   "source": [
    "import numpy as np\n",
    "from concurrent.futures import as_completed, ProcessPoolExecutor\n",
    "from Orange.evaluation import TestOnTestData\n",
    "from Orange.evaluation.scoring import CA\n",
    "from tqdm.notebook import tqdm\n",
    "\n",
    "\n",
    "feature_bounds = (0, 1)\n",
    "n_feat = [3]\n",
    "n_worlds = 50\n",
    "n_sample = [5, 10, 20, 40]\n",
    "rep = 33\n",
    "errRange = list(np.arange(0, 11) / 10)\n",
    "NUMBER_OF_CLASSES = 2\n",
    "endT=.2\n",
    "endArea = [.3]\n",
    "max_depth = 4\n",
    "learners = [skl_tree, post_hoc, uncertain_forest, random_forest, logistic_regression]\n",
    "correlation = [0.9, 0.8, 0.7, 0.6]\n",
    "\n",
    "# Function to be executed in parallel\n",
    "def run_experiment(features, world_gen_seed, err_range, n_sample, learners, endA = .2, correlation = 1):\n",
    "    np.random.seed(world_gen_seed)\n",
    "    world = generate_world(world_gen_seed, features, \n",
    "                           feature_bounds=feature_bounds, \n",
    "                           endT=endT, endA=endA, max_depth=max_depth,\n",
    "                           class_number=NUMBER_OF_CLASSES,\n",
    "                           errRange=err_range, corr=correlation)\n",
    "    data, test_data = convert_np_to_orange(world, features)\n",
    "    results = []\n",
    "    majority_class = CA(TestOnTestData(test_data, test_data=test_data, learners=[majority]))[0]\n",
    "    for samples_per_class in n_sample:\n",
    "        for _ in range(rep):\n",
    "            res = TestOnTestData(data=sample_data_orange(data, samples_per_class), \n",
    "                                test_data=test_data, \n",
    "                                learners=learners)\n",
    "            results.append([features, world_gen_seed, err_range, samples_per_class] + [val for val in CA(res)] + [majority_class])                    \n",
    "    return results\n",
    "\n",
    "# Main execution block\n",
    "results = []\n",
    "\n",
    "feat_PB = tqdm(total=n_worlds*len(errRange))\n",
    "for corr in correlation:\n",
    "    for endA in endArea:\n",
    "        for features in n_feat:\n",
    "            feat_PB.set_description(desc=f\"{features} Feat correlation {corr}\")\n",
    "            feat_PB.reset()\n",
    "            with ProcessPoolExecutor() as executor:\n",
    "                futures = []\n",
    "                for world_gen_seed in range(n_worlds):\n",
    "                    for err_range in errRange:\n",
    "                        futures.append(executor.submit(run_experiment, features, world_gen_seed, err_range, n_sample, learners, endA, corr))\n",
    "                \n",
    "                for future in as_completed(futures):\n",
    "                    results += future.result()\n",
    "                    feat_PB.update()\n",
    "\n",
    "            df = pd.DataFrame(results, columns=[\"Features\", \"World\", \"errRange\", \"n_samples\", \"skl\", \"post_hoc\", \"uncertain_forest\", \"random_forest\", \"logistic_regression\", \"majority\"])\n",
    "            df.to_csv(f\"results{features}feat_{n_worlds}worlds_{endA}endA_{NUMBER_OF_CLASSES}-clases_{corr}-correlation.csv\", index=False)\n",
    "            results = []\n",
    "\n",
    "# Process results as needed\n"
   ]
  },
  {
   "cell_type": "markdown",
   "metadata": {},
   "source": [
    "### 3 Class"
   ]
  },
  {
   "cell_type": "code",
   "execution_count": 15,
   "metadata": {},
   "outputs": [
    {
     "data": {
      "application/vnd.jupyter.widget-view+json": {
       "model_id": "d5b6e55f7f8d431cb851015fe9e33b27",
       "version_major": 2,
       "version_minor": 0
      },
      "text/plain": [
       "  0%|          | 0/550 [00:00<?, ?it/s]"
      ]
     },
     "metadata": {},
     "output_type": "display_data"
    }
   ],
   "source": [
    "import numpy as np\n",
    "from concurrent.futures import as_completed, ProcessPoolExecutor\n",
    "from Orange.evaluation import TestOnTestData\n",
    "from Orange.evaluation.scoring import CA\n",
    "from tqdm.notebook import tqdm\n",
    "\n",
    "\n",
    "feature_bounds = (0, 1)\n",
    "n_feat = [2, 3]\n",
    "n_worlds = 50\n",
    "n_sample = [5, 10, 20, 40]\n",
    "rep = 33\n",
    "errRange = list(np.arange(0, 11) / 10)\n",
    "NUMBER_OF_CLASSES = 3\n",
    "endT=.2\n",
    "endArea = [.3, .2, .1]\n",
    "max_depth = 4\n",
    "learners = [skl_tree, post_hoc, uncertain_forest, random_forest, logistic_regression]\n",
    "\n",
    "# Function to be executed in parallel\n",
    "def run_experiment(features, world_gen_seed, err_range, n_sample, learners, endA = .2):\n",
    "    np.random.seed(world_gen_seed)\n",
    "    world = generate_world(world_gen_seed, features, \n",
    "                           feature_bounds=feature_bounds, \n",
    "                           endT=endT, endA=endA, max_depth=max_depth,\n",
    "                           class_number=NUMBER_OF_CLASSES,\n",
    "                           errRange=err_range, corr=1)\n",
    "    data, test_data = convert_np_to_orange(world, features)\n",
    "    results = []\n",
    "    majority_class = CA(TestOnTestData(test_data, test_data=test_data, learners=[majority]))[0]\n",
    "    for samples_per_class in n_sample:\n",
    "        for _ in range(rep):\n",
    "            res = TestOnTestData(data=sample_data_orange(data, samples_per_class), \n",
    "                                test_data=test_data, \n",
    "                                learners=learners)\n",
    "            results.append([features, world_gen_seed, err_range, samples_per_class] + [val for val in CA(res)] + [majority_class])                    \n",
    "    return results\n",
    "\n",
    "# Main execution block\n",
    "results = []\n",
    "\n",
    "feat_PB = tqdm(total=n_worlds*len(errRange))\n",
    "for endA in endArea:\n",
    "    for features in n_feat:\n",
    "        feat_PB.set_description(desc=f\"{features} Feat endArea {endA}\")\n",
    "        feat_PB.reset()\n",
    "        with ProcessPoolExecutor() as executor:\n",
    "            futures = []\n",
    "            for world_gen_seed in range(n_worlds):\n",
    "                for err_range in errRange:\n",
    "                    futures.append(executor.submit(run_experiment, features, world_gen_seed, err_range, n_sample, learners, endA))\n",
    "            \n",
    "            for future in as_completed(futures):\n",
    "                results += future.result()\n",
    "                feat_PB.update()\n",
    "\n",
    "        df = pd.DataFrame(results, columns=[\"Features\", \"World\", \"errRange\", \"n_samples\", \"skl\", \"post_hoc\", \"uncertain_forest\", \"random_forest\", \"logistic_regression\", \"majority\"])\n",
    "        df.to_csv(f\"results{features}feat_{n_worlds}worlds_{endA}endA_{NUMBER_OF_CLASSES}-clases.csv\", index=False)\n",
    "        results = []\n",
    "\n",
    "# Process results as needed\n"
   ]
  },
  {
   "cell_type": "markdown",
   "metadata": {},
   "source": [
    "### ostalo"
   ]
  },
  {
   "cell_type": "code",
   "execution_count": 25,
   "metadata": {},
   "outputs": [
    {
     "data": {
      "application/vnd.jupyter.widget-view+json": {
       "model_id": "d19d87e92646440eaa34aaf7ac7a2c10",
       "version_major": 2,
       "version_minor": 0
      },
      "text/plain": [
       "  0%|          | 0/22 [00:00<?, ?it/s]"
      ]
     },
     "metadata": {},
     "output_type": "display_data"
    }
   ],
   "source": [
    "import numpy as np\n",
    "from Orange.evaluation import TestOnTestData\n",
    "from Orange.evaluation.scoring import CA\n",
    "from tqdm.notebook import tqdm\n",
    "import multiprocessing as mp\n",
    "import pandas as pd\n",
    "\n",
    "feature_bounds = (0, 1)\n",
    "n_feat = [2]\n",
    "n_worlds = 2\n",
    "n_sample = [5, 10, 20, 40]\n",
    "rep = 33\n",
    "errRange = list(np.arange(0, 11) / 10)\n",
    "NUMBER_OF_CLASSES = 2\n",
    "endT = .2\n",
    "endArea = [.1, .2, .3]\n",
    "max_depth = 4\n",
    "learners = [skl_tree, post_hoc, uncertain_forest, random_forest, lasso, ridge]\n",
    "\n",
    "# Function to be executed in parallel\n",
    "def run_experiment(args):\n",
    "    features, world_gen_seed, err_range, n_sample, learners, endA = args\n",
    "    np.random.seed(world_gen_seed)\n",
    "    world = generate_world(world_gen_seed, features, \n",
    "                           feature_bounds=feature_bounds, \n",
    "                           endT=endT, endA=endA, max_depth=max_depth,\n",
    "                           class_number=NUMBER_OF_CLASSES,\n",
    "                           errRange=err_range, corr=1)\n",
    "    data, test_data = convert_np_to_orange(world, features)\n",
    "    results = []\n",
    "    for samples_per_class in n_sample:\n",
    "        for _ in range(rep):\n",
    "            res = TestOnTestData(data=sample_data_orange(data, samples_per_class), \n",
    "                                test_data=test_data, \n",
    "                                learners=learners)\n",
    "            results.append([features, world_gen_seed, err_range, samples_per_class] + [val for val in CA(res)])                    \n",
    "    return results\n",
    "\n",
    "\n",
    "results = []\n",
    "\n",
    "feat_PB = tqdm(total=n_worlds*len(errRange))\n",
    "    \n",
    "for endA in endArea:\n",
    "    for features in n_feat:\n",
    "        feat_PB.set_description(desc=f\"{features} Feat endArea {endA}\")\n",
    "        feat_PB.reset()\n",
    "\n",
    "        # Prepare a list of arguments for parallel processing\n",
    "        tasks = [\n",
    "            (features, world_gen_seed, err_range, n_sample, learners, endA)\n",
    "            for world_gen_seed in range(n_worlds)\n",
    "            for err_range in errRange\n",
    "        ]\n",
    "\n",
    "        # Use multiprocessing Pool to execute tasks in parallel\n",
    "        with mp.Pool(mp.cpu_count()) as pool:\n",
    "            for result in pool.imap_unordered(run_experiment, tasks):\n",
    "                results.extend(result)\n",
    "                feat_PB.update()\n",
    "\n",
    "        # Save results after each feature/endA combination\n",
    "        # df = pd.DataFrame(results, columns=[\"Features\", \"World\", \"errRange\", \"n_samples\", \"skl\", \"post_hoc\", \"uncertain_forest\", \"random_forest\", \"lasso\", \"ridge\"])\n",
    "        # df.to_csv(f\"results{features}feat_{n_worlds}worlds_{endA}endA.csv\", index=False)\n",
    "        # results = []\n"
   ]
  }
 ],
 "metadata": {
  "kernelspec": {
   "display_name": "Python 3",
   "language": "python",
   "name": "python3"
  },
  "language_info": {
   "codemirror_mode": {
    "name": "ipython",
    "version": 3
   },
   "file_extension": ".py",
   "mimetype": "text/x-python",
   "name": "python",
   "nbconvert_exporter": "python",
   "pygments_lexer": "ipython3",
   "version": "3.10.12"
  }
 },
 "nbformat": 4,
 "nbformat_minor": 2
}
